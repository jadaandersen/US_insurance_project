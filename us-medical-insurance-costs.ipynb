{
 "cells": [
  {
   "cell_type": "markdown",
   "metadata": {},
   "source": [
    "# U.S. Medical Insurance Costs"
   ]
  },
  {
   "cell_type": "markdown",
   "metadata": {},
   "source": [
    "## Goals \n",
    "- Find out the average age of the patients in the dataset.\n",
    "- Analyze where a majority of the individuals are from.\n",
    "- Look at the different costs between smokers vs. non-smokers.\n",
    "- Figure out what the average age is for someone who has at least one child in this dataset."
   ]
  },
  {
   "cell_type": "code",
   "execution_count": 42,
   "metadata": {},
   "outputs": [],
   "source": [
    "import csv\n",
    "\n",
    "with open('insurance.csv', newline='') as insurance_data:\n",
    "    fields = ['age', 'sex', 'bmi', 'children', 'smoker', 'region', 'charges']\n",
    "    insurance_reader = csv.DictReader(insurance_data, delimiter=',')\n",
    "\n",
    "    patient_age = []\n",
    "    patient_sex = []\n",
    "    patient_bmi = []\n",
    "    patient_children = []\n",
    "    patient_smoker = []\n",
    "    patient_region = []\n",
    "    patient_charges = []\n",
    "\n",
    "    for row in insurance_reader:\n",
    "        patient_age.append(row['age'])\n",
    "        patient_sex.append(row['sex'])\n",
    "        patient_bmi.append(row['bmi'])\n",
    "        patient_children.append(row['children'])\n",
    "        patient_smoker.append(row['smoker'])\n",
    "        patient_region.append(row['region'])\n",
    "        patient_charges.append(row['charges'])\n",
    "\n"
   ]
  },
  {
   "cell_type": "code",
   "execution_count": 6,
   "metadata": {},
   "outputs": [],
   "source": [
    "#print(age)\n",
    "#print(sex)\n",
    "#print(bmi)\n",
    "#print(children)\n",
    "#print(smoker)\n",
    "#print(region)\n",
    "#print(charges)"
   ]
  },
  {
   "cell_type": "code",
   "execution_count": 10,
   "metadata": {},
   "outputs": [
    {
     "name": "stdout",
     "output_type": "stream",
     "text": [
      "39.2\n"
     ]
    }
   ],
   "source": [
    "#Average age of patient\n",
    "age_sum = 0\n",
    "for age in patient_age:\n",
    "    age_sum += int(age)\n",
    "average_age = round(age_sum / len(patient_age), 1)\n",
    "print(average_age)\n",
    "\n",
    "# Average age is 39.2"
   ]
  },
  {
   "cell_type": "code",
   "execution_count": 11,
   "metadata": {},
   "outputs": [],
   "source": [
    "def region_counter(region_list):\n",
    "    region_count = {}\n",
    "    for region in region_list:\n",
    "        if region not in region_count.keys():\n",
    "            region_count[region] = 1\n",
    "        if region in region_count.keys():\n",
    "            region_count[region] += 1 \n",
    "    return region_count "
   ]
  },
  {
   "cell_type": "code",
   "execution_count": 12,
   "metadata": {},
   "outputs": [
    {
     "name": "stdout",
     "output_type": "stream",
     "text": [
      "{'southwest': 326, 'southeast': 365, 'northwest': 326, 'northeast': 325}\n"
     ]
    }
   ],
   "source": [
    "print(region_counter(patient_region))\n",
    "#majority of patients are from the southeast"
   ]
  },
  {
   "cell_type": "code",
   "execution_count": 21,
   "metadata": {},
   "outputs": [
    {
     "name": "stdout",
     "output_type": "stream",
     "text": [
      "32050.23\n",
      "8434.27\n"
     ]
    }
   ],
   "source": [
    "# comparing costs of smokers and non-smokers\n",
    "\n",
    "smoker_cost = []\n",
    "non_smoker_cost = []\n",
    "for i in range(0,len(patient_age)):\n",
    "    if patient_smoker[i] == 'yes':\n",
    "        smoker_cost.append(patient_charges[i])\n",
    "    if patient_smoker[i] == 'no':\n",
    "        non_smoker_cost.append(patient_charges[i])\n",
    "\n",
    "#print(smoker_cost)\n",
    "#print(non_smoker_cost)\n",
    "smoker_cost_sum = 0\n",
    "for i in range(0, len(smoker_cost)):\n",
    "    smoker_cost_sum += float(smoker_cost[i])\n",
    "\n",
    "non_smoker_cost_sum = 0\n",
    "for i in range(0, len(non_smoker_cost)):\n",
    "    non_smoker_cost_sum += float(non_smoker_cost[i])\n",
    "\n",
    "average_smoker_cost = smoker_cost_sum/len(smoker_cost)\n",
    "average_non_smoker_cost = non_smoker_cost_sum/len(non_smoker_cost)\n",
    "print(round(average_smoker_cost, 2))\n",
    "print(round(average_non_smoker_cost, 2))\n",
    "\n",
    "# Average cost for a smoker is $32050.23\n",
    "# Average cost for a non-smoker is $8434.27\n",
    "\n"
   ]
  },
  {
   "cell_type": "code",
   "execution_count": 31,
   "metadata": {},
   "outputs": [
    {
     "name": "stdout",
     "output_type": "stream",
     "text": [
      "40.0\n"
     ]
    }
   ],
   "source": [
    "#Figure out what the average age is for someone who has at least one child in this dataset\n",
    "age_more_than_one_child = []\n",
    "for i in range(0,len(patient_children)):\n",
    "    if int(patient_children[i]) >= 1:\n",
    "        age_more_than_one_child.append(patient_age[i])\n",
    "\n",
    "#print(age_more_than_one_child)\n",
    "sum_age_more_than_one_child = 0\n",
    "for i in range(0, len(age_more_than_one_child)):\n",
    "    sum_age_more_than_one_child += int(age_more_than_one_child[i])\n",
    "\n",
    "#print(sum_age_more_than_one_child)\n",
    "average_age_more_than_one_child = sum_age_more_than_one_child/len(age_more_than_one_child)\n",
    "print(round(average_age_more_than_one_child, 0))\n",
    "\n",
    "#Average age of patients with more than one child is 40."
   ]
  },
  {
   "cell_type": "code",
   "execution_count": 43,
   "metadata": {},
   "outputs": [],
   "source": [
    "# Creating a functional patient dictionary\n",
    "patient_dict = {}\n",
    "\n",
    "for i in range(0, len(patient_age)):\n",
    "    patient_dict['Patient ID: {}'.format(i)] = [patient_age[i], patient_sex[i], patient_bmi[i], patient_children[i], patient_smoker[i], patient_region[i], patient_charges[i]]\n",
    "\n",
    "#print(patient_dict)\n",
    "\n"
   ]
  }
 ],
 "metadata": {
  "kernelspec": {
   "display_name": "Python 3",
   "language": "python",
   "name": "python3"
  },
  "language_info": {
   "codemirror_mode": {
    "name": "ipython",
    "version": 3
   },
   "file_extension": ".py",
   "mimetype": "text/x-python",
   "name": "python",
   "nbconvert_exporter": "python",
   "pygments_lexer": "ipython3",
   "version": "3.8.8"
  }
 },
 "nbformat": 4,
 "nbformat_minor": 4
}
